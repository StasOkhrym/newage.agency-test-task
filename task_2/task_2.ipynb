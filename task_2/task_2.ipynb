{
 "cells": [
  {
   "cell_type": "code",
   "execution_count": 1,
   "metadata": {
    "collapsed": true
   },
   "outputs": [],
   "source": [
    "import os\n",
    "\n",
    "from concurrent.futures import ThreadPoolExecutor\n",
    "import pandas as pd\n",
    "from google.cloud import bigquery\n",
    "from timer import timer"
   ]
  },
  {
   "cell_type": "markdown",
   "source": [
    "Create client for BigQuery API"
   ],
   "metadata": {
    "collapsed": false
   }
  },
  {
   "cell_type": "code",
   "execution_count": 2,
   "outputs": [],
   "source": [
    "os.environ[\"GOOGLE_APPLICATION_CREDENTIALS\"]=\"credentials.json\"\n",
    "\n",
    "client = bigquery.Client()"
   ],
   "metadata": {
    "collapsed": false
   }
  },
  {
   "cell_type": "markdown",
   "source": [
    "Retrieve data from public data samples"
   ],
   "metadata": {
    "collapsed": false
   }
  },
  {
   "cell_type": "code",
   "execution_count": 3,
   "outputs": [
    {
     "name": "stdout",
     "output_type": "stream",
     "text": [
      "\n",
      "Elapsed in 13.937 seconds\n"
     ]
    }
   ],
   "source": [
    "@timer\n",
    "def retrieve_big_query():\n",
    "    with ThreadPoolExecutor() as executor:\n",
    "        results = []\n",
    "        for i in range(4):\n",
    "            query = (f\"SELECT * \"\n",
    "                     f\"FROM `bigquery-public-data.usa_names.usa_1910_2013`\"\n",
    "                     f\"LIMIT 500000 \"\n",
    "                     f\"OFFSET {i * 500000}\"\n",
    "                     )\n",
    "            results.append(executor.submit(client.query, query))\n",
    "        return [result.result().to_dataframe() for result in results]\n",
    "\n",
    "dataframes = retrieve_big_query()"
   ],
   "metadata": {
    "collapsed": false
   }
  },
  {
   "cell_type": "markdown",
   "source": [
    "Concatenate smaller pieces into one DataFrame"
   ],
   "metadata": {
    "collapsed": false
   }
  },
  {
   "cell_type": "code",
   "execution_count": 4,
   "outputs": [],
   "source": [
    "df = pd.concat(dataframes)"
   ],
   "metadata": {
    "collapsed": false
   }
  },
  {
   "cell_type": "markdown",
   "source": [
    "Check the data in DataFrame"
   ],
   "metadata": {
    "collapsed": false
   }
  },
  {
   "cell_type": "code",
   "execution_count": 5,
   "outputs": [
    {
     "data": {
      "text/plain": "  state gender  year     name  number\n0    AK      F  1910     Mary      14\n1    AL      F  1910    Susie      85\n2    AL      F  1910  Harriet       8\n3    AL      F  1910    Ellie       9\n4    AL      F  1910      Amy       9",
      "text/html": "<div>\n<style scoped>\n    .dataframe tbody tr th:only-of-type {\n        vertical-align: middle;\n    }\n\n    .dataframe tbody tr th {\n        vertical-align: top;\n    }\n\n    .dataframe thead th {\n        text-align: right;\n    }\n</style>\n<table border=\"1\" class=\"dataframe\">\n  <thead>\n    <tr style=\"text-align: right;\">\n      <th></th>\n      <th>state</th>\n      <th>gender</th>\n      <th>year</th>\n      <th>name</th>\n      <th>number</th>\n    </tr>\n  </thead>\n  <tbody>\n    <tr>\n      <th>0</th>\n      <td>AK</td>\n      <td>F</td>\n      <td>1910</td>\n      <td>Mary</td>\n      <td>14</td>\n    </tr>\n    <tr>\n      <th>1</th>\n      <td>AL</td>\n      <td>F</td>\n      <td>1910</td>\n      <td>Susie</td>\n      <td>85</td>\n    </tr>\n    <tr>\n      <th>2</th>\n      <td>AL</td>\n      <td>F</td>\n      <td>1910</td>\n      <td>Harriet</td>\n      <td>8</td>\n    </tr>\n    <tr>\n      <th>3</th>\n      <td>AL</td>\n      <td>F</td>\n      <td>1910</td>\n      <td>Ellie</td>\n      <td>9</td>\n    </tr>\n    <tr>\n      <th>4</th>\n      <td>AL</td>\n      <td>F</td>\n      <td>1910</td>\n      <td>Amy</td>\n      <td>9</td>\n    </tr>\n  </tbody>\n</table>\n</div>"
     },
     "execution_count": 5,
     "metadata": {},
     "output_type": "execute_result"
    }
   ],
   "source": [
    "df.head()"
   ],
   "metadata": {
    "collapsed": false
   }
  },
  {
   "cell_type": "markdown",
   "source": [
    "Check the shape of DataFrame"
   ],
   "metadata": {
    "collapsed": false
   }
  },
  {
   "cell_type": "code",
   "execution_count": 6,
   "outputs": [
    {
     "data": {
      "text/plain": "(2000000, 5)"
     },
     "execution_count": 6,
     "metadata": {},
     "output_type": "execute_result"
    }
   ],
   "source": [
    "df.shape"
   ],
   "metadata": {
    "collapsed": false
   }
  },
  {
   "cell_type": "markdown",
   "source": [
    "Check if there are any empty cells in DataFrame"
   ],
   "metadata": {
    "collapsed": false
   }
  },
  {
   "cell_type": "code",
   "execution_count": 7,
   "outputs": [
    {
     "data": {
      "text/plain": "state     0\ngender    0\nyear      0\nname      0\nnumber    0\ndtype: int64"
     },
     "execution_count": 7,
     "metadata": {},
     "output_type": "execute_result"
    }
   ],
   "source": [
    "df.isnull().sum()"
   ],
   "metadata": {
    "collapsed": false
   }
  },
  {
   "cell_type": "markdown",
   "source": [
    "Separate one DataFrame into list of DataFrames for each state"
   ],
   "metadata": {
    "collapsed": false
   }
  },
  {
   "cell_type": "code",
   "execution_count": 8,
   "outputs": [],
   "source": [
    "grouped_dataframes_by_state = df.groupby(\"state\")"
   ],
   "metadata": {
    "collapsed": false
   }
  },
  {
   "cell_type": "markdown",
   "source": [
    "Check if data separated correctly"
   ],
   "metadata": {
    "collapsed": false
   }
  },
  {
   "cell_type": "code",
   "execution_count": 9,
   "outputs": [
    {
     "data": {
      "text/plain": "51"
     },
     "execution_count": 9,
     "metadata": {},
     "output_type": "execute_result"
    }
   ],
   "source": [
    "len(grouped_dataframes_by_state)"
   ],
   "metadata": {
    "collapsed": false
   }
  },
  {
   "cell_type": "markdown",
   "source": [
    "Retrieve the first DatafFrame from grouped collection"
   ],
   "metadata": {
    "collapsed": false
   }
  },
  {
   "cell_type": "code",
   "execution_count": 10,
   "outputs": [],
   "source": [
    "first_df = grouped_dataframes_by_state.get_group(list(grouped_dataframes_by_state.groups.keys())[0])"
   ],
   "metadata": {
    "collapsed": false
   }
  },
  {
   "cell_type": "markdown",
   "source": [
    "Check the first DataFrame"
   ],
   "metadata": {
    "collapsed": false
   }
  },
  {
   "cell_type": "code",
   "execution_count": 11,
   "outputs": [
    {
     "data": {
      "text/plain": "       state gender  year      name  number\n0         AK      F  1910      Mary      14\n2702      AK      F  1911      Ruth       7\n2703      AK      M  1911    George       5\n2704      AK      M  1911     James       8\n2705      AK      F  1911  Margaret       7\n...      ...    ...   ...       ...     ...\n495151    AK      M  1950    Harold       6\n495152    AK      M  1950      Fred       7\n495153    AK      M  1950  Lawrence      10\n495154    AK      M  1950    Dennis      18\n495155    AK      M  1950    Ronald      26\n\n[8396 rows x 5 columns]",
      "text/html": "<div>\n<style scoped>\n    .dataframe tbody tr th:only-of-type {\n        vertical-align: middle;\n    }\n\n    .dataframe tbody tr th {\n        vertical-align: top;\n    }\n\n    .dataframe thead th {\n        text-align: right;\n    }\n</style>\n<table border=\"1\" class=\"dataframe\">\n  <thead>\n    <tr style=\"text-align: right;\">\n      <th></th>\n      <th>state</th>\n      <th>gender</th>\n      <th>year</th>\n      <th>name</th>\n      <th>number</th>\n    </tr>\n  </thead>\n  <tbody>\n    <tr>\n      <th>0</th>\n      <td>AK</td>\n      <td>F</td>\n      <td>1910</td>\n      <td>Mary</td>\n      <td>14</td>\n    </tr>\n    <tr>\n      <th>2702</th>\n      <td>AK</td>\n      <td>F</td>\n      <td>1911</td>\n      <td>Ruth</td>\n      <td>7</td>\n    </tr>\n    <tr>\n      <th>2703</th>\n      <td>AK</td>\n      <td>M</td>\n      <td>1911</td>\n      <td>George</td>\n      <td>5</td>\n    </tr>\n    <tr>\n      <th>2704</th>\n      <td>AK</td>\n      <td>M</td>\n      <td>1911</td>\n      <td>James</td>\n      <td>8</td>\n    </tr>\n    <tr>\n      <th>2705</th>\n      <td>AK</td>\n      <td>F</td>\n      <td>1911</td>\n      <td>Margaret</td>\n      <td>7</td>\n    </tr>\n    <tr>\n      <th>...</th>\n      <td>...</td>\n      <td>...</td>\n      <td>...</td>\n      <td>...</td>\n      <td>...</td>\n    </tr>\n    <tr>\n      <th>495151</th>\n      <td>AK</td>\n      <td>M</td>\n      <td>1950</td>\n      <td>Harold</td>\n      <td>6</td>\n    </tr>\n    <tr>\n      <th>495152</th>\n      <td>AK</td>\n      <td>M</td>\n      <td>1950</td>\n      <td>Fred</td>\n      <td>7</td>\n    </tr>\n    <tr>\n      <th>495153</th>\n      <td>AK</td>\n      <td>M</td>\n      <td>1950</td>\n      <td>Lawrence</td>\n      <td>10</td>\n    </tr>\n    <tr>\n      <th>495154</th>\n      <td>AK</td>\n      <td>M</td>\n      <td>1950</td>\n      <td>Dennis</td>\n      <td>18</td>\n    </tr>\n    <tr>\n      <th>495155</th>\n      <td>AK</td>\n      <td>M</td>\n      <td>1950</td>\n      <td>Ronald</td>\n      <td>26</td>\n    </tr>\n  </tbody>\n</table>\n<p>8396 rows × 5 columns</p>\n</div>"
     },
     "execution_count": 11,
     "metadata": {},
     "output_type": "execute_result"
    }
   ],
   "source": [
    "first_df"
   ],
   "metadata": {
    "collapsed": false
   }
  },
  {
   "cell_type": "code",
   "execution_count": 12,
   "outputs": [
    {
     "data": {
      "text/plain": "state     object\ngender    object\nyear       Int64\nname      object\nnumber     Int64\ndtype: object"
     },
     "execution_count": 12,
     "metadata": {},
     "output_type": "execute_result"
    }
   ],
   "source": [
    "first_df.dtypes"
   ],
   "metadata": {
    "collapsed": false
   }
  },
  {
   "cell_type": "markdown",
   "source": [
    "**Write concurrently dataframe into Google Sheet.** (On output we can see the concurrent type of work)\n",
    "Each DaraFrame in collection occupy its own sheet. Method `write_dataframes_to_sheets` slices first `30_000` rows in order to\n",
    "fit `10_000_000` limitation for number of cells in Google Sheet."
   ],
   "metadata": {
    "collapsed": false
   }
  },
  {
   "cell_type": "code",
   "execution_count": 13,
   "outputs": [
    {
     "name": "stdout",
     "output_type": "stream",
     "text": [
      "AK AL AR AZ Done(AK) CA CO CT Done(AL) DC Done(AR) Done(AZ) Done(CA) Done(CO) DE Done(CT) Done(DC) FL GA Done(DE) HI Done(FL) IA Done(GA) ID Done(HI) IL Done(IA) IN Done(ID) KS Done(IL) KY Done(IN) LA Done(KS) MA Done(KY) MD Done(LA) ME Done(MA) MI Done(MD) MN Done(ME) MO Done(MI) MS Done(MN) MT Done(MO) NC Done(MS) ND Done(MT) Done(NC) NE NH Done(ND) NJ Done(NE) NM Done(NH) NV Done(NJ) NY Done(NM) Done(NV) OH OK Done(NY) OR Done(OH) PA Done(OK) RI Done(OR) SC Done(PA) SD Done(RI) TN Done(SC) TX Done(SD) UT Done(TN) VA Done(TX) VT Done(UT) WA Done(VA) Done(VT) WI WV Done(WA) WY Done(WI) Done(WV) Done(WY) \n",
      "Elapsed in 657.173 seconds\n"
     ]
    }
   ],
   "source": [
    "from writer import write_dataframes_to_sheets\n",
    "\n",
    "write_dataframes_to_sheets(\"task_2\", grouped_dataframes_by_state)"
   ],
   "metadata": {
    "collapsed": false
   }
  }
 ],
 "metadata": {
  "kernelspec": {
   "display_name": "Python 3",
   "language": "python",
   "name": "python3"
  },
  "language_info": {
   "codemirror_mode": {
    "name": "ipython",
    "version": 2
   },
   "file_extension": ".py",
   "mimetype": "text/x-python",
   "name": "python",
   "nbconvert_exporter": "python",
   "pygments_lexer": "ipython2",
   "version": "2.7.6"
  }
 },
 "nbformat": 4,
 "nbformat_minor": 0
}
