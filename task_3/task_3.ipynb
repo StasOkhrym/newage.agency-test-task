{
 "cells": [
  {
   "cell_type": "code",
   "execution_count": 2,
   "metadata": {
    "collapsed": true
   },
   "outputs": [],
   "source": [
    "import pandas as pd\n",
    "from parser import OLXParser"
   ]
  },
  {
   "cell_type": "markdown",
   "source": [
    "Create OLXParser instance and retrieve data about apartments from 5 pages"
   ],
   "metadata": {
    "collapsed": false
   }
  },
  {
   "cell_type": "code",
   "execution_count": 3,
   "outputs": [],
   "source": [
    "parser = OLXParser()\n",
    "data = parser.parse_pages(5)"
   ],
   "metadata": {
    "collapsed": false
   }
  },
  {
   "cell_type": "markdown",
   "source": [
    "Create DataFrame from retrieved data"
   ],
   "metadata": {
    "collapsed": false
   }
  },
  {
   "cell_type": "code",
   "execution_count": 4,
   "outputs": [],
   "source": [
    "df = pd.DataFrame(data, columns=[\"name\", \"price\", \"floor\", \"area\", \"location\"])"
   ],
   "metadata": {
    "collapsed": false
   }
  },
  {
   "cell_type": "markdown",
   "source": [
    "Check DataFrame"
   ],
   "metadata": {
    "collapsed": false
   }
  },
  {
   "cell_type": "code",
   "execution_count": 5,
   "outputs": [
    {
     "data": {
      "text/plain": "                                                  name        price     floor  \\\n0    Супер классная! 3хк. кв. Студия + 2 спальни. Ж...  24 000 грн.  13 of 25   \n1             Терміновий продаж квартири від власника!     32 100 $  11 of 13   \n2                 СДАМ 1-2к. 8000т. Приморский. Центр.   8 000 грн.   3 of 20   \n3                Оренда шикарної -3 кімнатної квартири      1 800 $    4 of 7   \n4    ЖК Софія Нова оренда однокімнатна, аренда одно...   9 000 грн.    6 of 9   \n..                                                 ...          ...       ...   \n255  Продам 2-х комнатную квартиру на 3/5 рынок бар...     18 500 $    4 of 4   \n256     Продам 1 кв ЖК Мира 3, м Индустриальная, м.ХТЗ     35 000 $    1 of 9   \n257  Продається квартира з ремонтом 49.5 м.кв. у Av...    113 000 $  16 of 25   \n258                     Продам 1 кімнатну в новобудові     36 000 $    4 of 5   \n259  ЖК Комфорт Сити Люкс с террасой 170 м2. Первая...      2 000 $    2 of 6   \n\n         area                                     location  \n0       78 м²          Київ, Солом'янськийКиївська область  \n1    64.20 м²   Івано-Франківськ,Івано-Франківська область  \n2       45 м²            Одеса, ПриморськийОдеська область  \n3      116 м²                 Ужгород,Закарпатська область  \n4    37.60 м²                      Чабани,Київська область  \n..        ...                                          ...  \n255  44.10 м²                    Макіївка,Донецька область  \n256     43 м²     Харків, ІндустріальнийХарківська область  \n257  49.50 м²           Львів, СихівськийЛьвівська область  \n258     45 м²                     Рівне,Рівненська область  \n259    170 м²  Дніпро, ЦентральнийДніпропетровська область  \n\n[260 rows x 5 columns]",
      "text/html": "<div>\n<style scoped>\n    .dataframe tbody tr th:only-of-type {\n        vertical-align: middle;\n    }\n\n    .dataframe tbody tr th {\n        vertical-align: top;\n    }\n\n    .dataframe thead th {\n        text-align: right;\n    }\n</style>\n<table border=\"1\" class=\"dataframe\">\n  <thead>\n    <tr style=\"text-align: right;\">\n      <th></th>\n      <th>name</th>\n      <th>price</th>\n      <th>floor</th>\n      <th>area</th>\n      <th>location</th>\n    </tr>\n  </thead>\n  <tbody>\n    <tr>\n      <th>0</th>\n      <td>Супер классная! 3хк. кв. Студия + 2 спальни. Ж...</td>\n      <td>24 000 грн.</td>\n      <td>13 of 25</td>\n      <td>78 м²</td>\n      <td>Київ, Солом'янськийКиївська область</td>\n    </tr>\n    <tr>\n      <th>1</th>\n      <td>Терміновий продаж квартири від власника!</td>\n      <td>32 100 $</td>\n      <td>11 of 13</td>\n      <td>64.20 м²</td>\n      <td>Івано-Франківськ,Івано-Франківська область</td>\n    </tr>\n    <tr>\n      <th>2</th>\n      <td>СДАМ 1-2к. 8000т. Приморский. Центр.</td>\n      <td>8 000 грн.</td>\n      <td>3 of 20</td>\n      <td>45 м²</td>\n      <td>Одеса, ПриморськийОдеська область</td>\n    </tr>\n    <tr>\n      <th>3</th>\n      <td>Оренда шикарної -3 кімнатної квартири</td>\n      <td>1 800 $</td>\n      <td>4 of 7</td>\n      <td>116 м²</td>\n      <td>Ужгород,Закарпатська область</td>\n    </tr>\n    <tr>\n      <th>4</th>\n      <td>ЖК Софія Нова оренда однокімнатна, аренда одно...</td>\n      <td>9 000 грн.</td>\n      <td>6 of 9</td>\n      <td>37.60 м²</td>\n      <td>Чабани,Київська область</td>\n    </tr>\n    <tr>\n      <th>...</th>\n      <td>...</td>\n      <td>...</td>\n      <td>...</td>\n      <td>...</td>\n      <td>...</td>\n    </tr>\n    <tr>\n      <th>255</th>\n      <td>Продам 2-х комнатную квартиру на 3/5 рынок бар...</td>\n      <td>18 500 $</td>\n      <td>4 of 4</td>\n      <td>44.10 м²</td>\n      <td>Макіївка,Донецька область</td>\n    </tr>\n    <tr>\n      <th>256</th>\n      <td>Продам 1 кв ЖК Мира 3, м Индустриальная, м.ХТЗ</td>\n      <td>35 000 $</td>\n      <td>1 of 9</td>\n      <td>43 м²</td>\n      <td>Харків, ІндустріальнийХарківська область</td>\n    </tr>\n    <tr>\n      <th>257</th>\n      <td>Продається квартира з ремонтом 49.5 м.кв. у Av...</td>\n      <td>113 000 $</td>\n      <td>16 of 25</td>\n      <td>49.50 м²</td>\n      <td>Львів, СихівськийЛьвівська область</td>\n    </tr>\n    <tr>\n      <th>258</th>\n      <td>Продам 1 кімнатну в новобудові</td>\n      <td>36 000 $</td>\n      <td>4 of 5</td>\n      <td>45 м²</td>\n      <td>Рівне,Рівненська область</td>\n    </tr>\n    <tr>\n      <th>259</th>\n      <td>ЖК Комфорт Сити Люкс с террасой 170 м2. Первая...</td>\n      <td>2 000 $</td>\n      <td>2 of 6</td>\n      <td>170 м²</td>\n      <td>Дніпро, ЦентральнийДніпропетровська область</td>\n    </tr>\n  </tbody>\n</table>\n<p>260 rows × 5 columns</p>\n</div>"
     },
     "execution_count": 5,
     "metadata": {},
     "output_type": "execute_result"
    }
   ],
   "source": [
    "df"
   ],
   "metadata": {
    "collapsed": false
   }
  },
  {
   "cell_type": "markdown",
   "source": [
    "Check if there are any empty cells in DataFrame"
   ],
   "metadata": {
    "collapsed": false
   }
  },
  {
   "cell_type": "code",
   "execution_count": 6,
   "outputs": [
    {
     "data": {
      "text/plain": "name        0\nprice       0\nfloor       0\narea        0\nlocation    0\ndtype: int64"
     },
     "execution_count": 6,
     "metadata": {},
     "output_type": "execute_result"
    }
   ],
   "source": [
    "df.isna().sum()"
   ],
   "metadata": {
    "collapsed": false
   }
  },
  {
   "cell_type": "markdown",
   "source": [
    "Write DataFrame into Google Sheet"
   ],
   "metadata": {
    "collapsed": false
   }
  },
  {
   "cell_type": "code",
   "execution_count": 7,
   "outputs": [],
   "source": [
    "from writer import write_df_to_sheet\n",
    "\n",
    "write_df_to_sheet(\"task_3\", df)"
   ],
   "metadata": {
    "collapsed": false
   }
  }
 ],
 "metadata": {
  "kernelspec": {
   "display_name": "Python 3",
   "language": "python",
   "name": "python3"
  },
  "language_info": {
   "codemirror_mode": {
    "name": "ipython",
    "version": 2
   },
   "file_extension": ".py",
   "mimetype": "text/x-python",
   "name": "python",
   "nbconvert_exporter": "python",
   "pygments_lexer": "ipython2",
   "version": "2.7.6"
  }
 },
 "nbformat": 4,
 "nbformat_minor": 0
}
