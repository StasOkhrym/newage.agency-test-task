{
 "cells": [
  {
   "cell_type": "code",
   "execution_count": 1,
   "metadata": {
    "collapsed": true
   },
   "outputs": [],
   "source": [
    "import pandas as pd\n",
    "from parser import OLXParser"
   ]
  },
  {
   "cell_type": "markdown",
   "source": [
    "Create OLXParser instance and retrieve data about apartments from 5 pages"
   ],
   "metadata": {
    "collapsed": false
   }
  },
  {
   "cell_type": "code",
   "execution_count": 2,
   "outputs": [],
   "source": [
    "parser = OLXParser()\n",
    "data = parser.parse_pages(5)"
   ],
   "metadata": {
    "collapsed": false
   }
  },
  {
   "cell_type": "markdown",
   "source": [
    "Create DataFrame from retrieved data"
   ],
   "metadata": {
    "collapsed": false
   }
  },
  {
   "cell_type": "code",
   "execution_count": 3,
   "outputs": [],
   "source": [
    "df = pd.DataFrame(data, columns=[\"name\", \"price\", \"floor\", \"area\", \"location\"])"
   ],
   "metadata": {
    "collapsed": false
   }
  },
  {
   "cell_type": "markdown",
   "source": [
    "Check DataFrame"
   ],
   "metadata": {
    "collapsed": false
   }
  },
  {
   "cell_type": "code",
   "execution_count": 4,
   "outputs": [
    {
     "data": {
      "text/plain": "                                                  name        price     floor  \\\n0    Трускавець вільні апартаменти/номери/житло на ...  14 500 грн.    2 of 2   \n1    Здається в довгострокову оренду 2-кімнатна ква...   6 000 грн.    3 of 5   \n2    2кімнатна квартира по вул Незалежності будинок...     25 000 $    3 of 4   \n3    Оренда дуже гарної великої 1к/квартири ЖК \"Сім...  18 500 грн.   2 of 12   \n4       Здача 2-кімнатної квартири на вул. Кирилівська   6 700 грн.    1 of 9   \n..                                                 ...          ...       ...   \n255               1-х кімнатна квартира в ЖК Навігатор     58 000 $   5 of 25   \n256  Оренда вишуканої 3 кім. квартири в центрі Льво...      1 000 $    3 of 5   \n257  Оренда 3 кім. квартири в центрі Львова вул. Пе...      1 000 $    4 of 5   \n258       2 кім квартира. Зданий будинок, район Каскад     37 000 $  11 of 11   \n259  1 кім кв з сучасним ремонтом в гарному стані н...  12 000 грн.    5 of 5   \n\n         area                                    location  \n0    1 500 м²                Трускавець,Львівська область  \n1       45 м²            Хмельницький,Хмельницька область  \n2       45 м²                    Ковель,Волинська область  \n3       43 м²                   Черкаси,Черкаська область  \n4       48 м²           Київ, ПодільськийКиївська область  \n..        ...                                         ...  \n255     43 м²           Київ, ОболонськийКиївська область  \n256     93 м²        Львів, ЛичаківськийЛьвівська область  \n257     92 м²        Львів, ЛичаківськийЛьвівська область  \n258  70.50 м²  Івано-Франківськ,Івано-Франківська область  \n259     37 м²                  Полтава,Полтавська область  \n\n[260 rows x 5 columns]",
      "text/html": "<div>\n<style scoped>\n    .dataframe tbody tr th:only-of-type {\n        vertical-align: middle;\n    }\n\n    .dataframe tbody tr th {\n        vertical-align: top;\n    }\n\n    .dataframe thead th {\n        text-align: right;\n    }\n</style>\n<table border=\"1\" class=\"dataframe\">\n  <thead>\n    <tr style=\"text-align: right;\">\n      <th></th>\n      <th>name</th>\n      <th>price</th>\n      <th>floor</th>\n      <th>area</th>\n      <th>location</th>\n    </tr>\n  </thead>\n  <tbody>\n    <tr>\n      <th>0</th>\n      <td>Трускавець вільні апартаменти/номери/житло на ...</td>\n      <td>14 500 грн.</td>\n      <td>2 of 2</td>\n      <td>1 500 м²</td>\n      <td>Трускавець,Львівська область</td>\n    </tr>\n    <tr>\n      <th>1</th>\n      <td>Здається в довгострокову оренду 2-кімнатна ква...</td>\n      <td>6 000 грн.</td>\n      <td>3 of 5</td>\n      <td>45 м²</td>\n      <td>Хмельницький,Хмельницька область</td>\n    </tr>\n    <tr>\n      <th>2</th>\n      <td>2кімнатна квартира по вул Незалежності будинок...</td>\n      <td>25 000 $</td>\n      <td>3 of 4</td>\n      <td>45 м²</td>\n      <td>Ковель,Волинська область</td>\n    </tr>\n    <tr>\n      <th>3</th>\n      <td>Оренда дуже гарної великої 1к/квартири ЖК \"Сім...</td>\n      <td>18 500 грн.</td>\n      <td>2 of 12</td>\n      <td>43 м²</td>\n      <td>Черкаси,Черкаська область</td>\n    </tr>\n    <tr>\n      <th>4</th>\n      <td>Здача 2-кімнатної квартири на вул. Кирилівська</td>\n      <td>6 700 грн.</td>\n      <td>1 of 9</td>\n      <td>48 м²</td>\n      <td>Київ, ПодільськийКиївська область</td>\n    </tr>\n    <tr>\n      <th>...</th>\n      <td>...</td>\n      <td>...</td>\n      <td>...</td>\n      <td>...</td>\n      <td>...</td>\n    </tr>\n    <tr>\n      <th>255</th>\n      <td>1-х кімнатна квартира в ЖК Навігатор</td>\n      <td>58 000 $</td>\n      <td>5 of 25</td>\n      <td>43 м²</td>\n      <td>Київ, ОболонськийКиївська область</td>\n    </tr>\n    <tr>\n      <th>256</th>\n      <td>Оренда вишуканої 3 кім. квартири в центрі Льво...</td>\n      <td>1 000 $</td>\n      <td>3 of 5</td>\n      <td>93 м²</td>\n      <td>Львів, ЛичаківськийЛьвівська область</td>\n    </tr>\n    <tr>\n      <th>257</th>\n      <td>Оренда 3 кім. квартири в центрі Львова вул. Пе...</td>\n      <td>1 000 $</td>\n      <td>4 of 5</td>\n      <td>92 м²</td>\n      <td>Львів, ЛичаківськийЛьвівська область</td>\n    </tr>\n    <tr>\n      <th>258</th>\n      <td>2 кім квартира. Зданий будинок, район Каскад</td>\n      <td>37 000 $</td>\n      <td>11 of 11</td>\n      <td>70.50 м²</td>\n      <td>Івано-Франківськ,Івано-Франківська область</td>\n    </tr>\n    <tr>\n      <th>259</th>\n      <td>1 кім кв з сучасним ремонтом в гарному стані н...</td>\n      <td>12 000 грн.</td>\n      <td>5 of 5</td>\n      <td>37 м²</td>\n      <td>Полтава,Полтавська область</td>\n    </tr>\n  </tbody>\n</table>\n<p>260 rows × 5 columns</p>\n</div>"
     },
     "execution_count": 4,
     "metadata": {},
     "output_type": "execute_result"
    }
   ],
   "source": [
    "df"
   ],
   "metadata": {
    "collapsed": false
   }
  },
  {
   "cell_type": "markdown",
   "source": [
    "Check if there are any empty cells in DataFrame"
   ],
   "metadata": {
    "collapsed": false
   }
  },
  {
   "cell_type": "code",
   "execution_count": 5,
   "outputs": [
    {
     "data": {
      "text/plain": "name        0\nprice       0\nfloor       0\narea        0\nlocation    0\ndtype: int64"
     },
     "execution_count": 5,
     "metadata": {},
     "output_type": "execute_result"
    }
   ],
   "source": [
    "df.isna().sum()"
   ],
   "metadata": {
    "collapsed": false
   }
  },
  {
   "cell_type": "markdown",
   "source": [
    "Write DataFrame into Google Sheet"
   ],
   "metadata": {
    "collapsed": false
   }
  },
  {
   "cell_type": "code",
   "execution_count": 6,
   "outputs": [],
   "source": [
    "from writer import write_df_to_sheet\n",
    "\n",
    "write_df_to_sheet(\"task_3\", df)"
   ],
   "metadata": {
    "collapsed": false
   }
  }
 ],
 "metadata": {
  "kernelspec": {
   "display_name": "Python 3",
   "language": "python",
   "name": "python3"
  },
  "language_info": {
   "codemirror_mode": {
    "name": "ipython",
    "version": 2
   },
   "file_extension": ".py",
   "mimetype": "text/x-python",
   "name": "python",
   "nbconvert_exporter": "python",
   "pygments_lexer": "ipython2",
   "version": "2.7.6"
  }
 },
 "nbformat": 4,
 "nbformat_minor": 0
}
