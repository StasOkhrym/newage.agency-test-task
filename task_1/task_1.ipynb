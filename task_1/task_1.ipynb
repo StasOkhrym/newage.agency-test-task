{
 "cells": [
  {
   "cell_type": "code",
   "execution_count": 1,
   "metadata": {
    "collapsed": true
   },
   "outputs": [],
   "source": [
    "import io\n",
    "from PIL import Image\n",
    "import pandas as pd\n",
    "import requests\n",
    "\n",
    "import config"
   ]
  },
  {
   "cell_type": "code",
   "execution_count": 2,
   "outputs": [],
   "source": [
    "sheet_url = config.IMAGES_URL\n",
    "response = requests.get(sheet_url)\n",
    "content = response.content.decode()\n",
    "df = pd.read_csv(io.StringIO(content))\n",
    "df.dropna(subset=['image_url'], inplace=True)"
   ],
   "metadata": {
    "collapsed": false
   }
  },
  {
   "cell_type": "code",
   "execution_count": 3,
   "outputs": [],
   "source": [
    "import aiohttp\n",
    "import asyncio\n",
    "\n",
    "async def get_image_size(session, url):\n",
    "    async with session.get(url) as a_response:\n",
    "        if 'image' in a_response.headers.get('content-type', ''):\n",
    "            image_data = await a_response.read()\n",
    "            image = Image.open(io.BytesIO(image_data))\n",
    "            image_size = image.size\n",
    "            return f\"{image_size[0]}X{image_size[1]}\"\n",
    "        else:\n",
    "            return None\n",
    "\n",
    "async def main(df):\n",
    "    async with aiohttp.ClientSession() as session:\n",
    "        tasks = [get_image_size(session, url) for url in df[\"image_url\"]]\n",
    "        image_sizes = await asyncio.gather(*tasks)\n",
    "        df[\"SIZE\"] = image_sizes\n",
    "    return df\n",
    "\n",
    "df = await main(df)"
   ],
   "metadata": {
    "collapsed": false
   }
  },
  {
   "cell_type": "code",
   "execution_count": 4,
   "outputs": [
    {
     "data": {
      "text/plain": "                                               image_url       SIZE\n0      https://data.sanitino.eu/PRODUCT-33916/8607663...  1080X1614\n1      https://data.sanitino.eu/PRODUCT-62434/f7aa3c2...  1080X1080\n2      https://data.sanitino.eu/PRODUCT-33915/8607663...  1080X1614\n3      https://data.sanitino.eu/PRODUCT-62426/506d67b...  1080X1080\n4      https://data.sanitino.eu/PRODUCT-33893/ccd99b4...  1080X1614\n...                                                  ...        ...\n46883  https://data.sanitino.eu/PRODUCT-113844/9786df...  2301X1080\n46884  https://data.sanitino.eu/PRODUCT-20240/4a457da...  1621X1080\n46885  https://data.sanitino.eu/PRODUCT-47765/58a1a3d...  1080X1218\n46886  https://data.sanitino.eu/PRODUCT-56372/764c369...  1080X1080\n46887  https://data.sanitino.eu/PRODUCT-90692/5a30dff...  1757X1080\n\n[46868 rows x 2 columns]",
      "text/html": "<div>\n<style scoped>\n    .dataframe tbody tr th:only-of-type {\n        vertical-align: middle;\n    }\n\n    .dataframe tbody tr th {\n        vertical-align: top;\n    }\n\n    .dataframe thead th {\n        text-align: right;\n    }\n</style>\n<table border=\"1\" class=\"dataframe\">\n  <thead>\n    <tr style=\"text-align: right;\">\n      <th></th>\n      <th>image_url</th>\n      <th>SIZE</th>\n    </tr>\n  </thead>\n  <tbody>\n    <tr>\n      <th>0</th>\n      <td>https://data.sanitino.eu/PRODUCT-33916/8607663...</td>\n      <td>1080X1614</td>\n    </tr>\n    <tr>\n      <th>1</th>\n      <td>https://data.sanitino.eu/PRODUCT-62434/f7aa3c2...</td>\n      <td>1080X1080</td>\n    </tr>\n    <tr>\n      <th>2</th>\n      <td>https://data.sanitino.eu/PRODUCT-33915/8607663...</td>\n      <td>1080X1614</td>\n    </tr>\n    <tr>\n      <th>3</th>\n      <td>https://data.sanitino.eu/PRODUCT-62426/506d67b...</td>\n      <td>1080X1080</td>\n    </tr>\n    <tr>\n      <th>4</th>\n      <td>https://data.sanitino.eu/PRODUCT-33893/ccd99b4...</td>\n      <td>1080X1614</td>\n    </tr>\n    <tr>\n      <th>...</th>\n      <td>...</td>\n      <td>...</td>\n    </tr>\n    <tr>\n      <th>46883</th>\n      <td>https://data.sanitino.eu/PRODUCT-113844/9786df...</td>\n      <td>2301X1080</td>\n    </tr>\n    <tr>\n      <th>46884</th>\n      <td>https://data.sanitino.eu/PRODUCT-20240/4a457da...</td>\n      <td>1621X1080</td>\n    </tr>\n    <tr>\n      <th>46885</th>\n      <td>https://data.sanitino.eu/PRODUCT-47765/58a1a3d...</td>\n      <td>1080X1218</td>\n    </tr>\n    <tr>\n      <th>46886</th>\n      <td>https://data.sanitino.eu/PRODUCT-56372/764c369...</td>\n      <td>1080X1080</td>\n    </tr>\n    <tr>\n      <th>46887</th>\n      <td>https://data.sanitino.eu/PRODUCT-90692/5a30dff...</td>\n      <td>1757X1080</td>\n    </tr>\n  </tbody>\n</table>\n<p>46868 rows × 2 columns</p>\n</div>"
     },
     "execution_count": 4,
     "metadata": {},
     "output_type": "execute_result"
    }
   ],
   "source": [
    "df"
   ],
   "metadata": {
    "collapsed": false
   }
  },
  {
   "cell_type": "code",
   "execution_count": 6,
   "outputs": [
    {
     "data": {
      "text/plain": "339"
     },
     "execution_count": 6,
     "metadata": {},
     "output_type": "execute_result"
    }
   ],
   "source": [
    "df[\"SIZE\"].isnull().sum()"
   ],
   "metadata": {
    "collapsed": false
   }
  },
  {
   "cell_type": "code",
   "execution_count": 9,
   "outputs": [],
   "source": [
    "df.dropna(subset=['SIZE'], inplace=True)"
   ],
   "metadata": {
    "collapsed": false
   }
  },
  {
   "cell_type": "code",
   "execution_count": 10,
   "outputs": [
    {
     "data": {
      "text/plain": "0"
     },
     "execution_count": 10,
     "metadata": {},
     "output_type": "execute_result"
    }
   ],
   "source": [
    "df[\"SIZE\"].isnull().sum()"
   ],
   "metadata": {
    "collapsed": false
   }
  },
  {
   "cell_type": "code",
   "execution_count": 64,
   "outputs": [
    {
     "data": {
      "text/plain": "                                               image_url       SIZE\n0      https://data.sanitino.eu/PRODUCT-33916/8607663...  1080X1614\n1      https://data.sanitino.eu/PRODUCT-62434/f7aa3c2...  1080X1080\n2      https://data.sanitino.eu/PRODUCT-33915/8607663...  1080X1614\n3      https://data.sanitino.eu/PRODUCT-62426/506d67b...  1080X1080\n4      https://data.sanitino.eu/PRODUCT-33893/ccd99b4...  1080X1614\n...                                                  ...        ...\n46883  https://data.sanitino.eu/PRODUCT-113844/9786df...  2301X1080\n46884  https://data.sanitino.eu/PRODUCT-20240/4a457da...  1621X1080\n46885  https://data.sanitino.eu/PRODUCT-47765/58a1a3d...  1080X1218\n46886  https://data.sanitino.eu/PRODUCT-56372/764c369...  1080X1080\n46887  https://data.sanitino.eu/PRODUCT-90692/5a30dff...  1757X1080\n\n[46529 rows x 2 columns]",
      "text/html": "<div>\n<style scoped>\n    .dataframe tbody tr th:only-of-type {\n        vertical-align: middle;\n    }\n\n    .dataframe tbody tr th {\n        vertical-align: top;\n    }\n\n    .dataframe thead th {\n        text-align: right;\n    }\n</style>\n<table border=\"1\" class=\"dataframe\">\n  <thead>\n    <tr style=\"text-align: right;\">\n      <th></th>\n      <th>image_url</th>\n      <th>SIZE</th>\n    </tr>\n  </thead>\n  <tbody>\n    <tr>\n      <th>0</th>\n      <td>https://data.sanitino.eu/PRODUCT-33916/8607663...</td>\n      <td>1080X1614</td>\n    </tr>\n    <tr>\n      <th>1</th>\n      <td>https://data.sanitino.eu/PRODUCT-62434/f7aa3c2...</td>\n      <td>1080X1080</td>\n    </tr>\n    <tr>\n      <th>2</th>\n      <td>https://data.sanitino.eu/PRODUCT-33915/8607663...</td>\n      <td>1080X1614</td>\n    </tr>\n    <tr>\n      <th>3</th>\n      <td>https://data.sanitino.eu/PRODUCT-62426/506d67b...</td>\n      <td>1080X1080</td>\n    </tr>\n    <tr>\n      <th>4</th>\n      <td>https://data.sanitino.eu/PRODUCT-33893/ccd99b4...</td>\n      <td>1080X1614</td>\n    </tr>\n    <tr>\n      <th>...</th>\n      <td>...</td>\n      <td>...</td>\n    </tr>\n    <tr>\n      <th>46883</th>\n      <td>https://data.sanitino.eu/PRODUCT-113844/9786df...</td>\n      <td>2301X1080</td>\n    </tr>\n    <tr>\n      <th>46884</th>\n      <td>https://data.sanitino.eu/PRODUCT-20240/4a457da...</td>\n      <td>1621X1080</td>\n    </tr>\n    <tr>\n      <th>46885</th>\n      <td>https://data.sanitino.eu/PRODUCT-47765/58a1a3d...</td>\n      <td>1080X1218</td>\n    </tr>\n    <tr>\n      <th>46886</th>\n      <td>https://data.sanitino.eu/PRODUCT-56372/764c369...</td>\n      <td>1080X1080</td>\n    </tr>\n    <tr>\n      <th>46887</th>\n      <td>https://data.sanitino.eu/PRODUCT-90692/5a30dff...</td>\n      <td>1757X1080</td>\n    </tr>\n  </tbody>\n</table>\n<p>46529 rows × 2 columns</p>\n</div>"
     },
     "execution_count": 64,
     "metadata": {},
     "output_type": "execute_result"
    }
   ],
   "source": [
    "df"
   ],
   "metadata": {
    "collapsed": false
   }
  },
  {
   "cell_type": "code",
   "execution_count": null,
   "outputs": [],
   "source": [
    "from writer import write_df_to_sheet\n",
    "\n",
    "write_df_to_sheet(\"task_1\", df)"
   ],
   "metadata": {
    "collapsed": false,
    "pycharm": {
     "is_executing": true
    }
   }
  }
 ],
 "metadata": {
  "kernelspec": {
   "display_name": "Python 3",
   "language": "python",
   "name": "python3"
  },
  "language_info": {
   "codemirror_mode": {
    "name": "ipython",
    "version": 2
   },
   "file_extension": ".py",
   "mimetype": "text/x-python",
   "name": "python",
   "nbconvert_exporter": "python",
   "pygments_lexer": "ipython2",
   "version": "2.7.6"
  }
 },
 "nbformat": 4,
 "nbformat_minor": 0
}
